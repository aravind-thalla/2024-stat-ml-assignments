{
  "nbformat": 4,
  "nbformat_minor": 0,
  "metadata": {
    "colab": {
      "provenance": [],
      "authorship_tag": "ABX9TyO4MT7S6uGGXQFYMS6MaWc5",
      "include_colab_link": true
    },
    "kernelspec": {
      "name": "python3",
      "display_name": "Python 3"
    },
    "language_info": {
      "name": "python"
    }
  },
  "cells": [
    {
      "cell_type": "markdown",
      "metadata": {
        "id": "view-in-github",
        "colab_type": "text"
      },
      "source": [
        "<a href=\"https://colab.research.google.com/github/aravind-thalla/2024-stat-ml-assignments/blob/main/assignment_4(SML).ipynb\" target=\"_parent\"><img src=\"https://colab.research.google.com/assets/colab-badge.svg\" alt=\"Open In Colab\"/></a>"
      ]
    },
    {
      "cell_type": "markdown",
      "source": [
        "QUESTION-1"
      ],
      "metadata": {
        "id": "1YyajTnXbrKz"
      }
    },
    {
      "cell_type": "markdown",
      "source": [
        "\n",
        "1.Read the data with pandas and find features and target variables\n"
      ],
      "metadata": {
        "id": "XJAth-ImX5jc"
      }
    },
    {
      "cell_type": "code",
      "execution_count": 2,
      "metadata": {
        "colab": {
          "base_uri": "https://localhost:8080/"
        },
        "id": "N_pQ9IdGUyy8",
        "outputId": "1569f770-dc83-4b20-da01-83cf96a8b903"
      },
      "outputs": [
        {
          "output_type": "stream",
          "name": "stdout",
          "text": [
            "      battery_power  blue  clock_speed  dual_sim  fc  four_g  int_memory  \\\n",
            "0               842     0          2.2         0   1       0           7   \n",
            "1              1021     1          0.5         1   0       1          53   \n",
            "2               563     1          0.5         1   2       1          41   \n",
            "3               615     1          2.5         0   0       0          10   \n",
            "4              1821     1          1.2         0  13       1          44   \n",
            "...             ...   ...          ...       ...  ..     ...         ...   \n",
            "1995            794     1          0.5         1   0       1           2   \n",
            "1996           1965     1          2.6         1   0       0          39   \n",
            "1997           1911     0          0.9         1   1       1          36   \n",
            "1998           1512     0          0.9         0   4       1          46   \n",
            "1999            510     1          2.0         1   5       1          45   \n",
            "\n",
            "      m_dep  mobile_wt  n_cores  ...  px_height  px_width   ram  sc_h  sc_w  \\\n",
            "0       0.6        188        2  ...         20       756  2549     9     7   \n",
            "1       0.7        136        3  ...        905      1988  2631    17     3   \n",
            "2       0.9        145        5  ...       1263      1716  2603    11     2   \n",
            "3       0.8        131        6  ...       1216      1786  2769    16     8   \n",
            "4       0.6        141        2  ...       1208      1212  1411     8     2   \n",
            "...     ...        ...      ...  ...        ...       ...   ...   ...   ...   \n",
            "1995    0.8        106        6  ...       1222      1890   668    13     4   \n",
            "1996    0.2        187        4  ...        915      1965  2032    11    10   \n",
            "1997    0.7        108        8  ...        868      1632  3057     9     1   \n",
            "1998    0.1        145        5  ...        336       670   869    18    10   \n",
            "1999    0.9        168        6  ...        483       754  3919    19     4   \n",
            "\n",
            "      talk_time  three_g  touch_screen  wifi  price_range  \n",
            "0            19        0             0     1            1  \n",
            "1             7        1             1     0            2  \n",
            "2             9        1             1     0            2  \n",
            "3            11        1             0     0            2  \n",
            "4            15        1             1     0            1  \n",
            "...         ...      ...           ...   ...          ...  \n",
            "1995         19        1             1     0            0  \n",
            "1996         16        1             1     1            2  \n",
            "1997          5        1             1     0            3  \n",
            "1998         19        1             1     1            0  \n",
            "1999          2        1             1     1            3  \n",
            "\n",
            "[2000 rows x 21 columns]\n"
          ]
        }
      ],
      "source": [
        "import pandas as pd\n",
        "file_path = \"/content/sample_data/train.csv\"\n",
        "df = pd.read_csv(file_path)\n",
        "print(df)"
      ]
    },
    {
      "cell_type": "code",
      "source": [
        "y=df['price_range']\n",
        "print(y)"
      ],
      "metadata": {
        "colab": {
          "base_uri": "https://localhost:8080/"
        },
        "id": "b6HTowU5Z-Bi",
        "outputId": "47b6ef72-b36a-476a-9df9-d703be06f884"
      },
      "execution_count": 4,
      "outputs": [
        {
          "output_type": "stream",
          "name": "stdout",
          "text": [
            "0       1\n",
            "1       2\n",
            "2       2\n",
            "3       2\n",
            "4       1\n",
            "       ..\n",
            "1995    0\n",
            "1996    2\n",
            "1997    3\n",
            "1998    0\n",
            "1999    3\n",
            "Name: price_range, Length: 2000, dtype: int64\n"
          ]
        }
      ]
    },
    {
      "cell_type": "markdown",
      "source": [
        "2.Normalize the data with min-max scaling\n",
        "\n",
        "\n",
        "\n",
        "\n"
      ],
      "metadata": {
        "id": "rwuxT-lIbVF6"
      }
    },
    {
      "cell_type": "code",
      "source": [
        "x=df.drop('price_range',axis=1)\n",
        "print(x)"
      ],
      "metadata": {
        "colab": {
          "base_uri": "https://localhost:8080/"
        },
        "id": "ZppnqOzccLmm",
        "outputId": "6631cef3-be20-42eb-ca18-b0fe20198764"
      },
      "execution_count": 8,
      "outputs": [
        {
          "output_type": "stream",
          "name": "stdout",
          "text": [
            "      battery_power  blue  clock_speed  dual_sim  fc  four_g  int_memory  \\\n",
            "0               842     0          2.2         0   1       0           7   \n",
            "1              1021     1          0.5         1   0       1          53   \n",
            "2               563     1          0.5         1   2       1          41   \n",
            "3               615     1          2.5         0   0       0          10   \n",
            "4              1821     1          1.2         0  13       1          44   \n",
            "...             ...   ...          ...       ...  ..     ...         ...   \n",
            "1995            794     1          0.5         1   0       1           2   \n",
            "1996           1965     1          2.6         1   0       0          39   \n",
            "1997           1911     0          0.9         1   1       1          36   \n",
            "1998           1512     0          0.9         0   4       1          46   \n",
            "1999            510     1          2.0         1   5       1          45   \n",
            "\n",
            "      m_dep  mobile_wt  n_cores  pc  px_height  px_width   ram  sc_h  sc_w  \\\n",
            "0       0.6        188        2   2         20       756  2549     9     7   \n",
            "1       0.7        136        3   6        905      1988  2631    17     3   \n",
            "2       0.9        145        5   6       1263      1716  2603    11     2   \n",
            "3       0.8        131        6   9       1216      1786  2769    16     8   \n",
            "4       0.6        141        2  14       1208      1212  1411     8     2   \n",
            "...     ...        ...      ...  ..        ...       ...   ...   ...   ...   \n",
            "1995    0.8        106        6  14       1222      1890   668    13     4   \n",
            "1996    0.2        187        4   3        915      1965  2032    11    10   \n",
            "1997    0.7        108        8   3        868      1632  3057     9     1   \n",
            "1998    0.1        145        5   5        336       670   869    18    10   \n",
            "1999    0.9        168        6  16        483       754  3919    19     4   \n",
            "\n",
            "      talk_time  three_g  touch_screen  wifi  \n",
            "0            19        0             0     1  \n",
            "1             7        1             1     0  \n",
            "2             9        1             1     0  \n",
            "3            11        1             0     0  \n",
            "4            15        1             1     0  \n",
            "...         ...      ...           ...   ...  \n",
            "1995         19        1             1     0  \n",
            "1996         16        1             1     1  \n",
            "1997          5        1             1     0  \n",
            "1998         19        1             1     1  \n",
            "1999          2        1             1     1  \n",
            "\n",
            "[2000 rows x 20 columns]\n"
          ]
        }
      ]
    },
    {
      "cell_type": "code",
      "source": [
        "z=(df-df.min())/(df.max()-df.min())\n",
        "print(z)"
      ],
      "metadata": {
        "colab": {
          "base_uri": "https://localhost:8080/"
        },
        "id": "K3E-5HDEd_Aj",
        "outputId": "9a6380b7-45f8-49e9-9eec-db81f3f2c851"
      },
      "execution_count": 9,
      "outputs": [
        {
          "output_type": "stream",
          "name": "stdout",
          "text": [
            "      battery_power  blue  clock_speed  dual_sim        fc  four_g  \\\n",
            "0          0.227789   0.0         0.68       0.0  0.052632     0.0   \n",
            "1          0.347361   1.0         0.00       1.0  0.000000     1.0   \n",
            "2          0.041416   1.0         0.00       1.0  0.105263     1.0   \n",
            "3          0.076152   1.0         0.80       0.0  0.000000     0.0   \n",
            "4          0.881764   1.0         0.28       0.0  0.684211     1.0   \n",
            "...             ...   ...          ...       ...       ...     ...   \n",
            "1995       0.195725   1.0         0.00       1.0  0.000000     1.0   \n",
            "1996       0.977956   1.0         0.84       1.0  0.000000     0.0   \n",
            "1997       0.941884   0.0         0.16       1.0  0.052632     1.0   \n",
            "1998       0.675351   0.0         0.16       0.0  0.210526     1.0   \n",
            "1999       0.006012   1.0         0.60       1.0  0.263158     1.0   \n",
            "\n",
            "      int_memory     m_dep  mobile_wt   n_cores  ...  px_height  px_width  \\\n",
            "0       0.080645  0.555556   0.900000  0.142857  ...   0.010204  0.170895   \n",
            "1       0.822581  0.666667   0.466667  0.285714  ...   0.461735  0.993324   \n",
            "2       0.629032  0.888889   0.541667  0.571429  ...   0.644388  0.811749   \n",
            "3       0.129032  0.777778   0.425000  0.714286  ...   0.620408  0.858478   \n",
            "4       0.677419  0.555556   0.508333  0.142857  ...   0.616327  0.475300   \n",
            "...          ...       ...        ...       ...  ...        ...       ...   \n",
            "1995    0.000000  0.777778   0.216667  0.714286  ...   0.623469  0.927904   \n",
            "1996    0.596774  0.111111   0.891667  0.428571  ...   0.466837  0.977971   \n",
            "1997    0.548387  0.666667   0.233333  1.000000  ...   0.442857  0.755674   \n",
            "1998    0.709677  0.000000   0.541667  0.571429  ...   0.171429  0.113485   \n",
            "1999    0.693548  0.888889   0.733333  0.714286  ...   0.246429  0.169559   \n",
            "\n",
            "           ram      sc_h      sc_w  talk_time  three_g  touch_screen  wifi  \\\n",
            "0     0.612774  0.285714  0.388889   0.944444      0.0           0.0   1.0   \n",
            "1     0.634687  0.857143  0.166667   0.277778      1.0           1.0   0.0   \n",
            "2     0.627205  0.428571  0.111111   0.388889      1.0           1.0   0.0   \n",
            "3     0.671566  0.785714  0.444444   0.500000      1.0           0.0   0.0   \n",
            "4     0.308658  0.214286  0.111111   0.722222      1.0           1.0   0.0   \n",
            "...        ...       ...       ...        ...      ...           ...   ...   \n",
            "1995  0.110102  0.571429  0.222222   0.944444      1.0           1.0   0.0   \n",
            "1996  0.474613  0.428571  0.555556   0.777778      1.0           1.0   1.0   \n",
            "1997  0.748530  0.285714  0.055556   0.166667      1.0           1.0   0.0   \n",
            "1998  0.163816  0.928571  0.555556   0.944444      1.0           1.0   1.0   \n",
            "1999  0.978888  1.000000  0.222222   0.000000      1.0           1.0   1.0   \n",
            "\n",
            "      price_range  \n",
            "0        0.333333  \n",
            "1        0.666667  \n",
            "2        0.666667  \n",
            "3        0.666667  \n",
            "4        0.333333  \n",
            "...           ...  \n",
            "1995     0.000000  \n",
            "1996     0.666667  \n",
            "1997     1.000000  \n",
            "1998     0.000000  \n",
            "1999     1.000000  \n",
            "\n",
            "[2000 rows x 21 columns]\n"
          ]
        }
      ]
    },
    {
      "cell_type": "markdown",
      "source": [
        "Split the data into train and test."
      ],
      "metadata": {
        "id": "Pg-Ap0lhfTtc"
      }
    },
    {
      "cell_type": "code",
      "source": [
        "from sklearn.model_selection import train_test_split"
      ],
      "metadata": {
        "id": "QaBQAEoLgyNZ"
      },
      "execution_count": 10,
      "outputs": []
    },
    {
      "cell_type": "code",
      "source": [
        "x_train,x_test,y_train,y_test=train_test_split(x,y,test_size=0.2,random_state=42)"
      ],
      "metadata": {
        "id": "2P7dBPyfhP_U"
      },
      "execution_count": 12,
      "outputs": []
    },
    {
      "cell_type": "code",
      "source": [
        "print(x_train)\n",
        "print(y_train)\n",
        "print(x_test)\n",
        "print(y_test)"
      ],
      "metadata": {
        "colab": {
          "base_uri": "https://localhost:8080/"
        },
        "id": "cGp8q9YqiLOb",
        "outputId": "30742448-a1ce-422a-e657-f80b041c0573"
      },
      "execution_count": 15,
      "outputs": [
        {
          "output_type": "stream",
          "name": "stdout",
          "text": [
            "      battery_power  blue  clock_speed  dual_sim  fc  four_g  int_memory  \\\n",
            "968            1923     0          0.5         1   7       0          46   \n",
            "240             633     1          2.2         0   0       1          49   \n",
            "819            1236     0          0.9         1   2       1          57   \n",
            "692             781     0          1.1         0   2       0          38   \n",
            "420            1456     1          0.5         1   7       0           7   \n",
            "...             ...   ...          ...       ...  ..     ...         ...   \n",
            "1130           1975     1          1.9         1   2       0          31   \n",
            "1294            589     1          0.5         0   1       1          59   \n",
            "860            1829     1          0.5         0   0       1          15   \n",
            "1459           1927     0          0.9         1   3       0          11   \n",
            "1126            635     1          0.6         1   1       1          50   \n",
            "\n",
            "      m_dep  mobile_wt  n_cores  pc  px_height  px_width   ram  sc_h  sc_w  \\\n",
            "968     0.5        191        1  10        767      1759  1489    10     9   \n",
            "240     0.1        139        8   1        529      1009  3560    11     1   \n",
            "819     0.1        188        1  14        517       809  1406    14    12   \n",
            "692     0.4        198        5   7        304      1674  3508    13     8   \n",
            "420     0.4        105        5  12        823      1104  1587     6     5   \n",
            "...     ...        ...      ...  ..        ...       ...   ...   ...   ...   \n",
            "1130    0.9        151        1  17        775      1607  3022    13     5   \n",
            "1294    0.7        146        8   4        759      1858   362    16    10   \n",
            "860     0.4        160        5   7        729      1267  2080    16    11   \n",
            "1459    0.4        190        8  12        491      1506  2916    16    11   \n",
            "1126    0.3         97        5  13        193       989  2107    13    12   \n",
            "\n",
            "      talk_time  three_g  touch_screen  wifi  \n",
            "968           3        1             1     1  \n",
            "240          16        1             1     1  \n",
            "819          20        1             0     1  \n",
            "692           5        0             0     1  \n",
            "420          20        1             0     1  \n",
            "...         ...      ...           ...   ...  \n",
            "1130         19        0             0     1  \n",
            "1294          6        1             1     1  \n",
            "860          12        1             0     1  \n",
            "1459         18        0             1     1  \n",
            "1126         12        1             0     0  \n",
            "\n",
            "[1600 rows x 20 columns]\n",
            "968     1\n",
            "240     2\n",
            "819     0\n",
            "692     3\n",
            "420     1\n",
            "       ..\n",
            "1130    3\n",
            "1294    0\n",
            "860     2\n",
            "1459    3\n",
            "1126    1\n",
            "Name: price_range, Length: 1600, dtype: int64\n",
            "      battery_power  blue  clock_speed  dual_sim  fc  four_g  int_memory  \\\n",
            "1860           1646     0          2.5         0   3       1          25   \n",
            "353            1182     0          0.5         0   7       1           8   \n",
            "1333           1972     0          2.9         0   9       0          14   \n",
            "905             989     1          2.0         0   4       0          17   \n",
            "1289            615     1          0.5         1   7       0          58   \n",
            "...             ...   ...          ...       ...  ..     ...         ...   \n",
            "965            1379     0          0.5         1   1       0          19   \n",
            "1284            991     0          2.0         0   2       1          12   \n",
            "1739           1044     0          1.8         0   4       1          12   \n",
            "261             728     0          2.7         1   0       0          25   \n",
            "535            1185     0          1.9         0   0       0          31   \n",
            "\n",
            "      m_dep  mobile_wt  n_cores  pc  px_height  px_width   ram  sc_h  sc_w  \\\n",
            "1860    0.6        200        2   5        211      1608   686     8     6   \n",
            "353     0.5        138        8  16        275       986  2563    19    17   \n",
            "1333    0.4        196        7  18        293       952  1316     8     1   \n",
            "905     0.2        166        3  19        256      1394  3892    18     7   \n",
            "1289    0.5        130        5   8       1021      1958  1906    14     5   \n",
            "...     ...        ...      ...  ..        ...       ...   ...   ...   ...   \n",
            "965     0.3        134        8  17        387       671  3912    11     2   \n",
            "1284    0.3        158        5   6       1209      1678  2014    11     9   \n",
            "1739    0.7        104        6   5       1230      1263  1794    18     7   \n",
            "261     0.2         88        4   1        526      1529  2039     5     1   \n",
            "535     0.4        152        8   7        837      1642  2447    16     2   \n",
            "\n",
            "      talk_time  three_g  touch_screen  wifi  \n",
            "1860         11        1             1     0  \n",
            "353          19        1             0     0  \n",
            "1333          8        1             1     0  \n",
            "905          19        1             1     0  \n",
            "1289          5        1             0     0  \n",
            "...         ...      ...           ...   ...  \n",
            "965          19        0             1     1  \n",
            "1284         10        1             0     0  \n",
            "1739         19        1             1     1  \n",
            "261          12        1             1     1  \n",
            "535           3        1             1     1  \n",
            "\n",
            "[400 rows x 20 columns]\n",
            "1860    0\n",
            "353     2\n",
            "1333    1\n",
            "905     3\n",
            "1289    1\n",
            "       ..\n",
            "965     3\n",
            "1284    2\n",
            "1739    1\n",
            "261     1\n",
            "535     2\n",
            "Name: price_range, Length: 400, dtype: int64\n"
          ]
        }
      ]
    },
    {
      "cell_type": "markdown",
      "source": [
        "Question-2"
      ],
      "metadata": {
        "id": "wq_XkpZylWsr"
      }
    },
    {
      "cell_type": "markdown",
      "source": [
        "1.Read the data with pandas and describe the data\n",
        "\n",
        "\n"
      ],
      "metadata": {
        "id": "ofw85yl4lmAH"
      }
    },
    {
      "cell_type": "code",
      "source": [
        "import pandas as pd\n",
        "file_path = \"/content/sample_data/california_housing_train.csv\"\n",
        "df = pd.read_csv(file_path)\n",
        "print(df)"
      ],
      "metadata": {
        "colab": {
          "base_uri": "https://localhost:8080/"
        },
        "id": "LsyAgfUWmKX6",
        "outputId": "0251ad2a-59de-4af0-b2e9-e479a7871559"
      },
      "execution_count": 20,
      "outputs": [
        {
          "output_type": "stream",
          "name": "stdout",
          "text": [
            "       longitude  latitude  housing_median_age  total_rooms  total_bedrooms  \\\n",
            "0        -114.31     34.19                15.0       5612.0          1283.0   \n",
            "1        -114.47     34.40                19.0       7650.0          1901.0   \n",
            "2        -114.56     33.69                17.0        720.0           174.0   \n",
            "3        -114.57     33.64                14.0       1501.0           337.0   \n",
            "4        -114.57     33.57                20.0       1454.0           326.0   \n",
            "...          ...       ...                 ...          ...             ...   \n",
            "16995    -124.26     40.58                52.0       2217.0           394.0   \n",
            "16996    -124.27     40.69                36.0       2349.0           528.0   \n",
            "16997    -124.30     41.84                17.0       2677.0           531.0   \n",
            "16998    -124.30     41.80                19.0       2672.0           552.0   \n",
            "16999    -124.35     40.54                52.0       1820.0           300.0   \n",
            "\n",
            "       population  households  median_income  median_house_value  \n",
            "0          1015.0       472.0         1.4936             66900.0  \n",
            "1          1129.0       463.0         1.8200             80100.0  \n",
            "2           333.0       117.0         1.6509             85700.0  \n",
            "3           515.0       226.0         3.1917             73400.0  \n",
            "4           624.0       262.0         1.9250             65500.0  \n",
            "...           ...         ...            ...                 ...  \n",
            "16995       907.0       369.0         2.3571            111400.0  \n",
            "16996      1194.0       465.0         2.5179             79000.0  \n",
            "16997      1244.0       456.0         3.0313            103600.0  \n",
            "16998      1298.0       478.0         1.9797             85800.0  \n",
            "16999       806.0       270.0         3.0147             94600.0  \n",
            "\n",
            "[17000 rows x 9 columns]\n"
          ]
        }
      ]
    },
    {
      "cell_type": "code",
      "source": [
        "df.describe()"
      ],
      "metadata": {
        "colab": {
          "base_uri": "https://localhost:8080/",
          "height": 300
        },
        "id": "OLAdUTJamoxr",
        "outputId": "8fcbdadf-03ea-42b5-abbf-9f7b8cf66935"
      },
      "execution_count": 21,
      "outputs": [
        {
          "output_type": "execute_result",
          "data": {
            "text/plain": [
              "          longitude      latitude  housing_median_age   total_rooms  \\\n",
              "count  17000.000000  17000.000000        17000.000000  17000.000000   \n",
              "mean    -119.562108     35.625225           28.589353   2643.664412   \n",
              "std        2.005166      2.137340           12.586937   2179.947071   \n",
              "min     -124.350000     32.540000            1.000000      2.000000   \n",
              "25%     -121.790000     33.930000           18.000000   1462.000000   \n",
              "50%     -118.490000     34.250000           29.000000   2127.000000   \n",
              "75%     -118.000000     37.720000           37.000000   3151.250000   \n",
              "max     -114.310000     41.950000           52.000000  37937.000000   \n",
              "\n",
              "       total_bedrooms    population    households  median_income  \\\n",
              "count    17000.000000  17000.000000  17000.000000   17000.000000   \n",
              "mean       539.410824   1429.573941    501.221941       3.883578   \n",
              "std        421.499452   1147.852959    384.520841       1.908157   \n",
              "min          1.000000      3.000000      1.000000       0.499900   \n",
              "25%        297.000000    790.000000    282.000000       2.566375   \n",
              "50%        434.000000   1167.000000    409.000000       3.544600   \n",
              "75%        648.250000   1721.000000    605.250000       4.767000   \n",
              "max       6445.000000  35682.000000   6082.000000      15.000100   \n",
              "\n",
              "       median_house_value  \n",
              "count        17000.000000  \n",
              "mean        207300.912353  \n",
              "std         115983.764387  \n",
              "min          14999.000000  \n",
              "25%         119400.000000  \n",
              "50%         180400.000000  \n",
              "75%         265000.000000  \n",
              "max         500001.000000  "
            ],
            "text/html": [
              "\n",
              "  <div id=\"df-5f1c0f9b-2a34-4d57-a4de-389937fe91db\" class=\"colab-df-container\">\n",
              "    <div>\n",
              "<style scoped>\n",
              "    .dataframe tbody tr th:only-of-type {\n",
              "        vertical-align: middle;\n",
              "    }\n",
              "\n",
              "    .dataframe tbody tr th {\n",
              "        vertical-align: top;\n",
              "    }\n",
              "\n",
              "    .dataframe thead th {\n",
              "        text-align: right;\n",
              "    }\n",
              "</style>\n",
              "<table border=\"1\" class=\"dataframe\">\n",
              "  <thead>\n",
              "    <tr style=\"text-align: right;\">\n",
              "      <th></th>\n",
              "      <th>longitude</th>\n",
              "      <th>latitude</th>\n",
              "      <th>housing_median_age</th>\n",
              "      <th>total_rooms</th>\n",
              "      <th>total_bedrooms</th>\n",
              "      <th>population</th>\n",
              "      <th>households</th>\n",
              "      <th>median_income</th>\n",
              "      <th>median_house_value</th>\n",
              "    </tr>\n",
              "  </thead>\n",
              "  <tbody>\n",
              "    <tr>\n",
              "      <th>count</th>\n",
              "      <td>17000.000000</td>\n",
              "      <td>17000.000000</td>\n",
              "      <td>17000.000000</td>\n",
              "      <td>17000.000000</td>\n",
              "      <td>17000.000000</td>\n",
              "      <td>17000.000000</td>\n",
              "      <td>17000.000000</td>\n",
              "      <td>17000.000000</td>\n",
              "      <td>17000.000000</td>\n",
              "    </tr>\n",
              "    <tr>\n",
              "      <th>mean</th>\n",
              "      <td>-119.562108</td>\n",
              "      <td>35.625225</td>\n",
              "      <td>28.589353</td>\n",
              "      <td>2643.664412</td>\n",
              "      <td>539.410824</td>\n",
              "      <td>1429.573941</td>\n",
              "      <td>501.221941</td>\n",
              "      <td>3.883578</td>\n",
              "      <td>207300.912353</td>\n",
              "    </tr>\n",
              "    <tr>\n",
              "      <th>std</th>\n",
              "      <td>2.005166</td>\n",
              "      <td>2.137340</td>\n",
              "      <td>12.586937</td>\n",
              "      <td>2179.947071</td>\n",
              "      <td>421.499452</td>\n",
              "      <td>1147.852959</td>\n",
              "      <td>384.520841</td>\n",
              "      <td>1.908157</td>\n",
              "      <td>115983.764387</td>\n",
              "    </tr>\n",
              "    <tr>\n",
              "      <th>min</th>\n",
              "      <td>-124.350000</td>\n",
              "      <td>32.540000</td>\n",
              "      <td>1.000000</td>\n",
              "      <td>2.000000</td>\n",
              "      <td>1.000000</td>\n",
              "      <td>3.000000</td>\n",
              "      <td>1.000000</td>\n",
              "      <td>0.499900</td>\n",
              "      <td>14999.000000</td>\n",
              "    </tr>\n",
              "    <tr>\n",
              "      <th>25%</th>\n",
              "      <td>-121.790000</td>\n",
              "      <td>33.930000</td>\n",
              "      <td>18.000000</td>\n",
              "      <td>1462.000000</td>\n",
              "      <td>297.000000</td>\n",
              "      <td>790.000000</td>\n",
              "      <td>282.000000</td>\n",
              "      <td>2.566375</td>\n",
              "      <td>119400.000000</td>\n",
              "    </tr>\n",
              "    <tr>\n",
              "      <th>50%</th>\n",
              "      <td>-118.490000</td>\n",
              "      <td>34.250000</td>\n",
              "      <td>29.000000</td>\n",
              "      <td>2127.000000</td>\n",
              "      <td>434.000000</td>\n",
              "      <td>1167.000000</td>\n",
              "      <td>409.000000</td>\n",
              "      <td>3.544600</td>\n",
              "      <td>180400.000000</td>\n",
              "    </tr>\n",
              "    <tr>\n",
              "      <th>75%</th>\n",
              "      <td>-118.000000</td>\n",
              "      <td>37.720000</td>\n",
              "      <td>37.000000</td>\n",
              "      <td>3151.250000</td>\n",
              "      <td>648.250000</td>\n",
              "      <td>1721.000000</td>\n",
              "      <td>605.250000</td>\n",
              "      <td>4.767000</td>\n",
              "      <td>265000.000000</td>\n",
              "    </tr>\n",
              "    <tr>\n",
              "      <th>max</th>\n",
              "      <td>-114.310000</td>\n",
              "      <td>41.950000</td>\n",
              "      <td>52.000000</td>\n",
              "      <td>37937.000000</td>\n",
              "      <td>6445.000000</td>\n",
              "      <td>35682.000000</td>\n",
              "      <td>6082.000000</td>\n",
              "      <td>15.000100</td>\n",
              "      <td>500001.000000</td>\n",
              "    </tr>\n",
              "  </tbody>\n",
              "</table>\n",
              "</div>\n",
              "    <div class=\"colab-df-buttons\">\n",
              "\n",
              "  <div class=\"colab-df-container\">\n",
              "    <button class=\"colab-df-convert\" onclick=\"convertToInteractive('df-5f1c0f9b-2a34-4d57-a4de-389937fe91db')\"\n",
              "            title=\"Convert this dataframe to an interactive table.\"\n",
              "            style=\"display:none;\">\n",
              "\n",
              "  <svg xmlns=\"http://www.w3.org/2000/svg\" height=\"24px\" viewBox=\"0 -960 960 960\">\n",
              "    <path d=\"M120-120v-720h720v720H120Zm60-500h600v-160H180v160Zm220 220h160v-160H400v160Zm0 220h160v-160H400v160ZM180-400h160v-160H180v160Zm440 0h160v-160H620v160ZM180-180h160v-160H180v160Zm440 0h160v-160H620v160Z\"/>\n",
              "  </svg>\n",
              "    </button>\n",
              "\n",
              "  <style>\n",
              "    .colab-df-container {\n",
              "      display:flex;\n",
              "      gap: 12px;\n",
              "    }\n",
              "\n",
              "    .colab-df-convert {\n",
              "      background-color: #E8F0FE;\n",
              "      border: none;\n",
              "      border-radius: 50%;\n",
              "      cursor: pointer;\n",
              "      display: none;\n",
              "      fill: #1967D2;\n",
              "      height: 32px;\n",
              "      padding: 0 0 0 0;\n",
              "      width: 32px;\n",
              "    }\n",
              "\n",
              "    .colab-df-convert:hover {\n",
              "      background-color: #E2EBFA;\n",
              "      box-shadow: 0px 1px 2px rgba(60, 64, 67, 0.3), 0px 1px 3px 1px rgba(60, 64, 67, 0.15);\n",
              "      fill: #174EA6;\n",
              "    }\n",
              "\n",
              "    .colab-df-buttons div {\n",
              "      margin-bottom: 4px;\n",
              "    }\n",
              "\n",
              "    [theme=dark] .colab-df-convert {\n",
              "      background-color: #3B4455;\n",
              "      fill: #D2E3FC;\n",
              "    }\n",
              "\n",
              "    [theme=dark] .colab-df-convert:hover {\n",
              "      background-color: #434B5C;\n",
              "      box-shadow: 0px 1px 3px 1px rgba(0, 0, 0, 0.15);\n",
              "      filter: drop-shadow(0px 1px 2px rgba(0, 0, 0, 0.3));\n",
              "      fill: #FFFFFF;\n",
              "    }\n",
              "  </style>\n",
              "\n",
              "    <script>\n",
              "      const buttonEl =\n",
              "        document.querySelector('#df-5f1c0f9b-2a34-4d57-a4de-389937fe91db button.colab-df-convert');\n",
              "      buttonEl.style.display =\n",
              "        google.colab.kernel.accessAllowed ? 'block' : 'none';\n",
              "\n",
              "      async function convertToInteractive(key) {\n",
              "        const element = document.querySelector('#df-5f1c0f9b-2a34-4d57-a4de-389937fe91db');\n",
              "        const dataTable =\n",
              "          await google.colab.kernel.invokeFunction('convertToInteractive',\n",
              "                                                    [key], {});\n",
              "        if (!dataTable) return;\n",
              "\n",
              "        const docLinkHtml = 'Like what you see? Visit the ' +\n",
              "          '<a target=\"_blank\" href=https://colab.research.google.com/notebooks/data_table.ipynb>data table notebook</a>'\n",
              "          + ' to learn more about interactive tables.';\n",
              "        element.innerHTML = '';\n",
              "        dataTable['output_type'] = 'display_data';\n",
              "        await google.colab.output.renderOutput(dataTable, element);\n",
              "        const docLink = document.createElement('div');\n",
              "        docLink.innerHTML = docLinkHtml;\n",
              "        element.appendChild(docLink);\n",
              "      }\n",
              "    </script>\n",
              "  </div>\n",
              "\n",
              "\n",
              "<div id=\"df-42601b3c-3062-438c-841b-ddb4a51f64e6\">\n",
              "  <button class=\"colab-df-quickchart\" onclick=\"quickchart('df-42601b3c-3062-438c-841b-ddb4a51f64e6')\"\n",
              "            title=\"Suggest charts\"\n",
              "            style=\"display:none;\">\n",
              "\n",
              "<svg xmlns=\"http://www.w3.org/2000/svg\" height=\"24px\"viewBox=\"0 0 24 24\"\n",
              "     width=\"24px\">\n",
              "    <g>\n",
              "        <path d=\"M19 3H5c-1.1 0-2 .9-2 2v14c0 1.1.9 2 2 2h14c1.1 0 2-.9 2-2V5c0-1.1-.9-2-2-2zM9 17H7v-7h2v7zm4 0h-2V7h2v10zm4 0h-2v-4h2v4z\"/>\n",
              "    </g>\n",
              "</svg>\n",
              "  </button>\n",
              "\n",
              "<style>\n",
              "  .colab-df-quickchart {\n",
              "      --bg-color: #E8F0FE;\n",
              "      --fill-color: #1967D2;\n",
              "      --hover-bg-color: #E2EBFA;\n",
              "      --hover-fill-color: #174EA6;\n",
              "      --disabled-fill-color: #AAA;\n",
              "      --disabled-bg-color: #DDD;\n",
              "  }\n",
              "\n",
              "  [theme=dark] .colab-df-quickchart {\n",
              "      --bg-color: #3B4455;\n",
              "      --fill-color: #D2E3FC;\n",
              "      --hover-bg-color: #434B5C;\n",
              "      --hover-fill-color: #FFFFFF;\n",
              "      --disabled-bg-color: #3B4455;\n",
              "      --disabled-fill-color: #666;\n",
              "  }\n",
              "\n",
              "  .colab-df-quickchart {\n",
              "    background-color: var(--bg-color);\n",
              "    border: none;\n",
              "    border-radius: 50%;\n",
              "    cursor: pointer;\n",
              "    display: none;\n",
              "    fill: var(--fill-color);\n",
              "    height: 32px;\n",
              "    padding: 0;\n",
              "    width: 32px;\n",
              "  }\n",
              "\n",
              "  .colab-df-quickchart:hover {\n",
              "    background-color: var(--hover-bg-color);\n",
              "    box-shadow: 0 1px 2px rgba(60, 64, 67, 0.3), 0 1px 3px 1px rgba(60, 64, 67, 0.15);\n",
              "    fill: var(--button-hover-fill-color);\n",
              "  }\n",
              "\n",
              "  .colab-df-quickchart-complete:disabled,\n",
              "  .colab-df-quickchart-complete:disabled:hover {\n",
              "    background-color: var(--disabled-bg-color);\n",
              "    fill: var(--disabled-fill-color);\n",
              "    box-shadow: none;\n",
              "  }\n",
              "\n",
              "  .colab-df-spinner {\n",
              "    border: 2px solid var(--fill-color);\n",
              "    border-color: transparent;\n",
              "    border-bottom-color: var(--fill-color);\n",
              "    animation:\n",
              "      spin 1s steps(1) infinite;\n",
              "  }\n",
              "\n",
              "  @keyframes spin {\n",
              "    0% {\n",
              "      border-color: transparent;\n",
              "      border-bottom-color: var(--fill-color);\n",
              "      border-left-color: var(--fill-color);\n",
              "    }\n",
              "    20% {\n",
              "      border-color: transparent;\n",
              "      border-left-color: var(--fill-color);\n",
              "      border-top-color: var(--fill-color);\n",
              "    }\n",
              "    30% {\n",
              "      border-color: transparent;\n",
              "      border-left-color: var(--fill-color);\n",
              "      border-top-color: var(--fill-color);\n",
              "      border-right-color: var(--fill-color);\n",
              "    }\n",
              "    40% {\n",
              "      border-color: transparent;\n",
              "      border-right-color: var(--fill-color);\n",
              "      border-top-color: var(--fill-color);\n",
              "    }\n",
              "    60% {\n",
              "      border-color: transparent;\n",
              "      border-right-color: var(--fill-color);\n",
              "    }\n",
              "    80% {\n",
              "      border-color: transparent;\n",
              "      border-right-color: var(--fill-color);\n",
              "      border-bottom-color: var(--fill-color);\n",
              "    }\n",
              "    90% {\n",
              "      border-color: transparent;\n",
              "      border-bottom-color: var(--fill-color);\n",
              "    }\n",
              "  }\n",
              "</style>\n",
              "\n",
              "  <script>\n",
              "    async function quickchart(key) {\n",
              "      const quickchartButtonEl =\n",
              "        document.querySelector('#' + key + ' button');\n",
              "      quickchartButtonEl.disabled = true;  // To prevent multiple clicks.\n",
              "      quickchartButtonEl.classList.add('colab-df-spinner');\n",
              "      try {\n",
              "        const charts = await google.colab.kernel.invokeFunction(\n",
              "            'suggestCharts', [key], {});\n",
              "      } catch (error) {\n",
              "        console.error('Error during call to suggestCharts:', error);\n",
              "      }\n",
              "      quickchartButtonEl.classList.remove('colab-df-spinner');\n",
              "      quickchartButtonEl.classList.add('colab-df-quickchart-complete');\n",
              "    }\n",
              "    (() => {\n",
              "      let quickchartButtonEl =\n",
              "        document.querySelector('#df-42601b3c-3062-438c-841b-ddb4a51f64e6 button');\n",
              "      quickchartButtonEl.style.display =\n",
              "        google.colab.kernel.accessAllowed ? 'block' : 'none';\n",
              "    })();\n",
              "  </script>\n",
              "</div>\n",
              "\n",
              "    </div>\n",
              "  </div>\n"
            ],
            "application/vnd.google.colaboratory.intrinsic+json": {
              "type": "dataframe",
              "summary": "{\n  \"name\": \"df\",\n  \"rows\": 8,\n  \"fields\": [\n    {\n      \"column\": \"longitude\",\n      \"properties\": {\n        \"dtype\": \"number\",\n        \"std\": 6046.6451651071675,\n        \"min\": -124.35,\n        \"max\": 17000.0,\n        \"num_unique_values\": 8,\n        \"samples\": [\n          -119.5621082352941,\n          -118.49,\n          17000.0\n        ],\n        \"semantic_type\": \"\",\n        \"description\": \"\"\n      }\n    },\n    {\n      \"column\": \"latitude\",\n      \"properties\": {\n        \"dtype\": \"number\",\n        \"std\": 5999.401663832279,\n        \"min\": 2.1373397946570836,\n        \"max\": 17000.0,\n        \"num_unique_values\": 8,\n        \"samples\": [\n          35.62522470588235,\n          34.25,\n          17000.0\n        ],\n        \"semantic_type\": \"\",\n        \"description\": \"\"\n      }\n    },\n    {\n      \"column\": \"housing_median_age\",\n      \"properties\": {\n        \"dtype\": \"number\",\n        \"std\": 6001.428368089024,\n        \"min\": 1.0,\n        \"max\": 17000.0,\n        \"num_unique_values\": 8,\n        \"samples\": [\n          28.58935294117647,\n          29.0,\n          17000.0\n        ],\n        \"semantic_type\": \"\",\n        \"description\": \"\"\n      }\n    },\n    {\n      \"column\": \"total_rooms\",\n      \"properties\": {\n        \"dtype\": \"number\",\n        \"std\": 13113.353227786365,\n        \"min\": 2.0,\n        \"max\": 37937.0,\n        \"num_unique_values\": 8,\n        \"samples\": [\n          2643.664411764706,\n          2127.0,\n          17000.0\n        ],\n        \"semantic_type\": \"\",\n        \"description\": \"\"\n      }\n    },\n    {\n      \"column\": \"total_bedrooms\",\n      \"properties\": {\n        \"dtype\": \"number\",\n        \"std\": 5959.238771737063,\n        \"min\": 1.0,\n        \"max\": 17000.0,\n        \"num_unique_values\": 8,\n        \"samples\": [\n          539.4108235294118,\n          434.0,\n          17000.0\n        ],\n        \"semantic_type\": \"\",\n        \"description\": \"\"\n      }\n    },\n    {\n      \"column\": \"population\",\n      \"properties\": {\n        \"dtype\": \"number\",\n        \"std\": 12740.640658201448,\n        \"min\": 3.0,\n        \"max\": 35682.0,\n        \"num_unique_values\": 8,\n        \"samples\": [\n          1429.5739411764705,\n          1167.0,\n          17000.0\n        ],\n        \"semantic_type\": \"\",\n        \"description\": \"\"\n      }\n    },\n    {\n      \"column\": \"households\",\n      \"properties\": {\n        \"dtype\": \"number\",\n        \"std\": 5942.738122392389,\n        \"min\": 1.0,\n        \"max\": 17000.0,\n        \"num_unique_values\": 8,\n        \"samples\": [\n          501.2219411764706,\n          409.0,\n          17000.0\n        ],\n        \"semantic_type\": \"\",\n        \"description\": \"\"\n      }\n    },\n    {\n      \"column\": \"median_income\",\n      \"properties\": {\n        \"dtype\": \"number\",\n        \"std\": 6008.784464952051,\n        \"min\": 0.4999,\n        \"max\": 17000.0,\n        \"num_unique_values\": 8,\n        \"samples\": [\n          3.8835781000000007,\n          3.5446,\n          17000.0\n        ],\n        \"semantic_type\": \"\",\n        \"description\": \"\"\n      }\n    },\n    {\n      \"column\": \"median_house_value\",\n      \"properties\": {\n        \"dtype\": \"number\",\n        \"std\": 156700.95757149637,\n        \"min\": 14999.0,\n        \"max\": 500001.0,\n        \"num_unique_values\": 8,\n        \"samples\": [\n          207300.91235294117,\n          180400.0,\n          17000.0\n        ],\n        \"semantic_type\": \"\",\n        \"description\": \"\"\n      }\n    }\n  ]\n}"
            }
          },
          "metadata": {},
          "execution_count": 21
        }
      ]
    },
    {
      "cell_type": "markdown",
      "source": [
        "2.Find data type and shape of each column"
      ],
      "metadata": {
        "id": "sDg_S1N6nIIj"
      }
    },
    {
      "cell_type": "code",
      "source": [
        "df.dtypes"
      ],
      "metadata": {
        "colab": {
          "base_uri": "https://localhost:8080/",
          "height": 366
        },
        "id": "kCIt3gmJnW7d",
        "outputId": "f7a31b4d-51c3-464f-a1c9-b99b6869df62"
      },
      "execution_count": 22,
      "outputs": [
        {
          "output_type": "execute_result",
          "data": {
            "text/plain": [
              "longitude             float64\n",
              "latitude              float64\n",
              "housing_median_age    float64\n",
              "total_rooms           float64\n",
              "total_bedrooms        float64\n",
              "population            float64\n",
              "households            float64\n",
              "median_income         float64\n",
              "median_house_value    float64\n",
              "dtype: object"
            ],
            "text/html": [
              "<div>\n",
              "<style scoped>\n",
              "    .dataframe tbody tr th:only-of-type {\n",
              "        vertical-align: middle;\n",
              "    }\n",
              "\n",
              "    .dataframe tbody tr th {\n",
              "        vertical-align: top;\n",
              "    }\n",
              "\n",
              "    .dataframe thead th {\n",
              "        text-align: right;\n",
              "    }\n",
              "</style>\n",
              "<table border=\"1\" class=\"dataframe\">\n",
              "  <thead>\n",
              "    <tr style=\"text-align: right;\">\n",
              "      <th></th>\n",
              "      <th>0</th>\n",
              "    </tr>\n",
              "  </thead>\n",
              "  <tbody>\n",
              "    <tr>\n",
              "      <th>longitude</th>\n",
              "      <td>float64</td>\n",
              "    </tr>\n",
              "    <tr>\n",
              "      <th>latitude</th>\n",
              "      <td>float64</td>\n",
              "    </tr>\n",
              "    <tr>\n",
              "      <th>housing_median_age</th>\n",
              "      <td>float64</td>\n",
              "    </tr>\n",
              "    <tr>\n",
              "      <th>total_rooms</th>\n",
              "      <td>float64</td>\n",
              "    </tr>\n",
              "    <tr>\n",
              "      <th>total_bedrooms</th>\n",
              "      <td>float64</td>\n",
              "    </tr>\n",
              "    <tr>\n",
              "      <th>population</th>\n",
              "      <td>float64</td>\n",
              "    </tr>\n",
              "    <tr>\n",
              "      <th>households</th>\n",
              "      <td>float64</td>\n",
              "    </tr>\n",
              "    <tr>\n",
              "      <th>median_income</th>\n",
              "      <td>float64</td>\n",
              "    </tr>\n",
              "    <tr>\n",
              "      <th>median_house_value</th>\n",
              "      <td>float64</td>\n",
              "    </tr>\n",
              "  </tbody>\n",
              "</table>\n",
              "</div><br><label><b>dtype:</b> object</label>"
            ]
          },
          "metadata": {},
          "execution_count": 22
        }
      ]
    },
    {
      "cell_type": "code",
      "source": [
        "df.shape"
      ],
      "metadata": {
        "colab": {
          "base_uri": "https://localhost:8080/"
        },
        "id": "_apCFRKnngE7",
        "outputId": "e7c16803-93ce-4f01-f7c6-811ff0ac4ef4"
      },
      "execution_count": 23,
      "outputs": [
        {
          "output_type": "execute_result",
          "data": {
            "text/plain": [
              "(17000, 9)"
            ]
          },
          "metadata": {},
          "execution_count": 23
        }
      ]
    },
    {
      "cell_type": "markdown",
      "source": [
        "3.Find the target and features"
      ],
      "metadata": {
        "id": "tbHPilFhntxm"
      }
    },
    {
      "cell_type": "code",
      "source": [
        "x=df['median_house_value']\n",
        "print(x)"
      ],
      "metadata": {
        "colab": {
          "base_uri": "https://localhost:8080/"
        },
        "id": "mML0bzAFn456",
        "outputId": "9b0d0c37-607d-4bf8-9936-c772e33f9471"
      },
      "execution_count": 28,
      "outputs": [
        {
          "output_type": "stream",
          "name": "stdout",
          "text": [
            "0         66900.0\n",
            "1         80100.0\n",
            "2         85700.0\n",
            "3         73400.0\n",
            "4         65500.0\n",
            "           ...   \n",
            "16995    111400.0\n",
            "16996     79000.0\n",
            "16997    103600.0\n",
            "16998     85800.0\n",
            "16999     94600.0\n",
            "Name: median_house_value, Length: 17000, dtype: float64\n"
          ]
        }
      ]
    },
    {
      "cell_type": "markdown",
      "source": [
        "4.Find the null values (if yes fill the null values with ‘0’ or mean of that column)"
      ],
      "metadata": {
        "id": "xFoknXbConM_"
      }
    },
    {
      "cell_type": "code",
      "source": [
        "df_filled_zero = df.fillna(0)\n",
        "print(df)"
      ],
      "metadata": {
        "colab": {
          "base_uri": "https://localhost:8080/"
        },
        "id": "fQ0vG2BvoqTS",
        "outputId": "411c2462-a250-40f8-b7fd-7e56cb05388a"
      },
      "execution_count": 25,
      "outputs": [
        {
          "output_type": "stream",
          "name": "stdout",
          "text": [
            "       longitude  latitude  housing_median_age  total_rooms  total_bedrooms  \\\n",
            "0        -114.31     34.19                15.0       5612.0          1283.0   \n",
            "1        -114.47     34.40                19.0       7650.0          1901.0   \n",
            "2        -114.56     33.69                17.0        720.0           174.0   \n",
            "3        -114.57     33.64                14.0       1501.0           337.0   \n",
            "4        -114.57     33.57                20.0       1454.0           326.0   \n",
            "...          ...       ...                 ...          ...             ...   \n",
            "16995    -124.26     40.58                52.0       2217.0           394.0   \n",
            "16996    -124.27     40.69                36.0       2349.0           528.0   \n",
            "16997    -124.30     41.84                17.0       2677.0           531.0   \n",
            "16998    -124.30     41.80                19.0       2672.0           552.0   \n",
            "16999    -124.35     40.54                52.0       1820.0           300.0   \n",
            "\n",
            "       population  households  median_income  median_house_value  \n",
            "0          1015.0       472.0         1.4936             66900.0  \n",
            "1          1129.0       463.0         1.8200             80100.0  \n",
            "2           333.0       117.0         1.6509             85700.0  \n",
            "3           515.0       226.0         3.1917             73400.0  \n",
            "4           624.0       262.0         1.9250             65500.0  \n",
            "...           ...         ...            ...                 ...  \n",
            "16995       907.0       369.0         2.3571            111400.0  \n",
            "16996      1194.0       465.0         2.5179             79000.0  \n",
            "16997      1244.0       456.0         3.0313            103600.0  \n",
            "16998      1298.0       478.0         1.9797             85800.0  \n",
            "16999       806.0       270.0         3.0147             94600.0  \n",
            "\n",
            "[17000 rows x 9 columns]\n"
          ]
        }
      ]
    },
    {
      "cell_type": "markdown",
      "source": [
        "5.Normalize all the features"
      ],
      "metadata": {
        "id": "bZa-duJNpwA9"
      }
    },
    {
      "cell_type": "code",
      "source": [
        "y=df.drop('median_house_value',axis=1)\n",
        "print(y)"
      ],
      "metadata": {
        "colab": {
          "base_uri": "https://localhost:8080/"
        },
        "id": "bFcTOvfGpx3V",
        "outputId": "8467ec87-964f-46ff-d065-548b2648a8ff"
      },
      "execution_count": 29,
      "outputs": [
        {
          "output_type": "stream",
          "name": "stdout",
          "text": [
            "       longitude  latitude  housing_median_age  total_rooms  total_bedrooms  \\\n",
            "0        -114.31     34.19                15.0       5612.0          1283.0   \n",
            "1        -114.47     34.40                19.0       7650.0          1901.0   \n",
            "2        -114.56     33.69                17.0        720.0           174.0   \n",
            "3        -114.57     33.64                14.0       1501.0           337.0   \n",
            "4        -114.57     33.57                20.0       1454.0           326.0   \n",
            "...          ...       ...                 ...          ...             ...   \n",
            "16995    -124.26     40.58                52.0       2217.0           394.0   \n",
            "16996    -124.27     40.69                36.0       2349.0           528.0   \n",
            "16997    -124.30     41.84                17.0       2677.0           531.0   \n",
            "16998    -124.30     41.80                19.0       2672.0           552.0   \n",
            "16999    -124.35     40.54                52.0       1820.0           300.0   \n",
            "\n",
            "       population  households  median_income  \n",
            "0          1015.0       472.0         1.4936  \n",
            "1          1129.0       463.0         1.8200  \n",
            "2           333.0       117.0         1.6509  \n",
            "3           515.0       226.0         3.1917  \n",
            "4           624.0       262.0         1.9250  \n",
            "...           ...         ...            ...  \n",
            "16995       907.0       369.0         2.3571  \n",
            "16996      1194.0       465.0         2.5179  \n",
            "16997      1244.0       456.0         3.0313  \n",
            "16998      1298.0       478.0         1.9797  \n",
            "16999       806.0       270.0         3.0147  \n",
            "\n",
            "[17000 rows x 8 columns]\n"
          ]
        }
      ]
    },
    {
      "cell_type": "markdown",
      "source": [
        "6.Split the data into train and test."
      ],
      "metadata": {
        "id": "W5eQ3jz8qfFv"
      }
    },
    {
      "cell_type": "code",
      "source": [
        "from sklearn.model_selection import train_test_split"
      ],
      "metadata": {
        "id": "lgyG-xDUqk9L"
      },
      "execution_count": 27,
      "outputs": []
    },
    {
      "cell_type": "code",
      "source": [
        "x_train,x_test,y_train,y_test=train_test_split(x,y,test_size=0.2,random_state=42)"
      ],
      "metadata": {
        "id": "7IKDSA8Dq-XE"
      },
      "execution_count": 30,
      "outputs": []
    },
    {
      "cell_type": "code",
      "source": [
        "print(x_train)\n",
        "print(y_train)\n",
        "print(x_test)\n",
        "print(y_test)"
      ],
      "metadata": {
        "colab": {
          "base_uri": "https://localhost:8080/"
        },
        "id": "GgbyzOZTrDD6",
        "outputId": "ffaee77b-eb5f-4f91-8ac2-095005b85d5e"
      },
      "execution_count": 31,
      "outputs": [
        {
          "output_type": "stream",
          "name": "stdout",
          "text": [
            "4679     398800.0\n",
            "2512     353600.0\n",
            "993      138900.0\n",
            "1327     176300.0\n",
            "4630     326100.0\n",
            "           ...   \n",
            "11284    134600.0\n",
            "11964    115300.0\n",
            "5390     147400.0\n",
            "860      142600.0\n",
            "15795    236100.0\n",
            "Name: median_house_value, Length: 13600, dtype: float64\n",
            "       longitude  latitude  housing_median_age  total_rooms  total_bedrooms  \\\n",
            "4679     -118.07     33.81                22.0       2711.0           352.0   \n",
            "2512     -117.63     33.50                12.0       3619.0           536.0   \n",
            "993      -117.09     32.57                17.0        444.0            83.0   \n",
            "1327     -117.16     32.81                34.0       2275.0           375.0   \n",
            "4630     -118.07     34.17                36.0       2415.0           394.0   \n",
            "...          ...       ...                 ...          ...             ...   \n",
            "11284    -121.13     37.74                21.0       2376.0           475.0   \n",
            "11964    -121.38     38.62                41.0        774.0           144.0   \n",
            "5390     -118.15     33.91                38.0        901.0           205.0   \n",
            "860      -117.07     32.56                 9.0       3648.0           895.0   \n",
            "15795    -122.41     37.75                52.0       2452.0           623.0   \n",
            "\n",
            "       population  households  median_income  \n",
            "4679       1305.0       368.0         8.5407  \n",
            "2512       1506.0       492.0         7.2013  \n",
            "993         357.0        87.0         5.1478  \n",
            "1327       1021.0       379.0         3.6371  \n",
            "4630       1215.0       413.0         5.5418  \n",
            "...           ...         ...            ...  \n",
            "11284      1175.0       441.0         3.6016  \n",
            "11964       356.0       150.0         3.5625  \n",
            "5390        760.0       208.0         2.9643  \n",
            "860        3293.0       840.0         3.0992  \n",
            "15795      1932.0       549.0         2.3903  \n",
            "\n",
            "[13600 rows x 8 columns]\n",
            "10941    142700.0\n",
            "5250     500001.0\n",
            "10292     61800.0\n",
            "2266     162800.0\n",
            "6398      90600.0\n",
            "           ...   \n",
            "4706     211400.0\n",
            "8404     500001.0\n",
            "11114    162500.0\n",
            "7877     360700.0\n",
            "6188     137500.0\n",
            "Name: median_house_value, Length: 3400, dtype: float64\n",
            "       longitude  latitude  housing_median_age  total_rooms  total_bedrooms  \\\n",
            "10941    -120.87     37.77                 9.0       4838.0           920.0   \n",
            "5250     -118.14     34.11                52.0       2742.0           422.0   \n",
            "10292    -120.05     36.98                16.0       3705.0           739.0   \n",
            "2266     -117.42     34.02                 9.0       5455.0           882.0   \n",
            "6398     -118.26     33.97                52.0       1331.0           346.0   \n",
            "...          ...       ...                 ...          ...             ...   \n",
            "4706     -118.08     34.08                43.0       1716.0           402.0   \n",
            "8404     -118.47     34.06                45.0       1271.0           190.0   \n",
            "11114    -121.00     37.64                19.0        121.0            41.0   \n",
            "7877     -118.40     34.14                45.0        417.0            89.0   \n",
            "6188     -118.24     34.07                27.0        223.0            80.0   \n",
            "\n",
            "       population  households  median_income  \n",
            "10941      2460.0       923.0         3.5959  \n",
            "5250       1153.0       414.0         8.1124  \n",
            "10292      2463.0       697.0         2.5288  \n",
            "2266       3015.0       858.0         4.2321  \n",
            "6398       1144.0       362.0         1.5326  \n",
            "...           ...         ...            ...  \n",
            "4706       1343.0       386.0         2.9688  \n",
            "8404        419.0       171.0         7.6447  \n",
            "11114       658.0        41.0         0.9573  \n",
            "7877        187.0        88.0         5.1377  \n",
            "6188        249.0        82.0         1.6136  \n",
            "\n",
            "[3400 rows x 8 columns]\n"
          ]
        }
      ]
    }
  ]
}